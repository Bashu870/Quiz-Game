{
 "cells": [
  {
   "cell_type": "markdown",
   "id": "314c0c2d",
   "metadata": {},
   "source": [
    "# Welcome to Quiz Game !"
   ]
  },
  {
   "cell_type": "code",
   "execution_count": null,
   "id": "e0df4eb5",
   "metadata": {},
   "outputs": [
    {
     "name": "stdout",
     "output_type": "stream",
     "text": [
      "Welcome to my quiz game !!\n"
     ]
    }
   ],
   "source": [
    "print(\"Welcome to my quiz game !!\")\n",
    "\n",
    "playing= input(\"Do you want to play? :\")\n",
    "\n",
    "if playing.lower() != \"yes\":\n",
    "    quit()\n",
    "    \n",
    "print(\"OK, Great !! Lets play :)\") \n",
    "score=0\n",
    "\n",
    "answer= input(\"What does CPU stand for ?\")\n",
    "\n",
    "if answer.lower()== \"central processing unit\":\n",
    "    print(\"whoo !! correct answer\")\n",
    "    score+=1\n",
    "else:\n",
    "    print(\"Incorrect answer\")  \n",
    "\n",
    "\n",
    "answer= input(\"What does GPU stand for ?\")\n",
    "\n",
    "if answer.lower()== \"graphic processing unit\":\n",
    "    print(\"whoo !! correct answer\")\n",
    "    score+=1\n",
    "else:\n",
    "    print(\"Incorrect answer\")    \n",
    "\n",
    "\n",
    "answer= input(\"What does RAM stand for ?\")\n",
    "\n",
    "if answer.lower()== \"random access memory\":\n",
    "    print(\"whoo !! correct answer\")\n",
    "    score+=1\n",
    "else:\n",
    "    print(\"Incorrect answer\")   \n",
    "\n",
    "\n",
    "answer= input(\"What does PSU stand for ?\")\n",
    "\n",
    "if answer.lower()== \"power supply unit\":\n",
    "    print(\"whoo !! correct answer\")\n",
    "    score+=1\n",
    "else:\n",
    "    print(\"Incorrect answer\") \n",
    "    \n",
    "\n",
    "print(\"You got \" + str(score) + \" questions correct !!\") \n",
    "print(\"You got \" + str((score/ 4) * 100) +\"%\")"
   ]
  },
  {
   "cell_type": "code",
   "execution_count": null,
   "id": "9401c5f7",
   "metadata": {},
   "outputs": [],
   "source": []
  },
  {
   "cell_type": "code",
   "execution_count": null,
   "id": "b2abdfc6",
   "metadata": {},
   "outputs": [],
   "source": []
  },
  {
   "cell_type": "code",
   "execution_count": null,
   "id": "c990b880",
   "metadata": {},
   "outputs": [],
   "source": []
  },
  {
   "cell_type": "code",
   "execution_count": null,
   "id": "15af61e6",
   "metadata": {},
   "outputs": [],
   "source": []
  }
 ],
 "metadata": {
  "kernelspec": {
   "display_name": "Python 3 (ipykernel)",
   "language": "python",
   "name": "python3"
  },
  "language_info": {
   "codemirror_mode": {
    "name": "ipython",
    "version": 3
   },
   "file_extension": ".py",
   "mimetype": "text/x-python",
   "name": "python",
   "nbconvert_exporter": "python",
   "pygments_lexer": "ipython3",
   "version": "3.9.13"
  }
 },
 "nbformat": 4,
 "nbformat_minor": 5
}
